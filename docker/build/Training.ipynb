{
 "cells": [
  {
   "cell_type": "code",
   "execution_count": null,
   "metadata": {},
   "outputs": [],
   "source": [
    "import os\n",
    "import glob\n",
    "from trainval_net import train"
   ]
  },
  {
   "cell_type": "code",
   "execution_count": null,
   "metadata": {},
   "outputs": [],
   "source": [
    "# write files in DCMImagesTest to text file in ImageSets\n",
    "base_path = \"/opt/R-FCN.pytorch/data/PNAdevkit/PNA2018\"\n",
    "d = os.path.join(base_path, 'DCMImagesTrain')\n",
    "pids = [pid.split('.')[0] for pid in os.listdir(d)]\n",
    "\n",
    "ImageSets_dir = os.path.join(base_path, 'ImageSets')\n",
    "if not os.path.exists(ImageSets_dir):\n",
    "    os.mkdir(ImageSets_dir)\n",
    "\n",
    "with open(os.path.join(ImageSets_dir,'train.txt'), 'w') as f:\n",
    "    for pid in pids:\n",
    "        f.write(\"{}\\n\".format(pid))"
   ]
  },
  {
   "cell_type": "markdown",
   "metadata": {},
   "source": [
    "# Training\n",
    "\n",
    "We trained our final submission based on 4 models, while keeping all the other settings exactly the same, only the `RNG_SEED` was changed. NOTE: `session` is just a variable for naming output files. The image files were\n",
    "\n",
    "The below code will generate 4 models in the `weights` directory in the same directory as where `run.sh` command was invoked. NOTE: if a override directory for `weights` was set by using the option `--weights` when invoking `run.sh`, the weights will be saved accordingly.\n",
    "\n",
    "NOTE: Change the `num_workers` to the number of GPUs specified when invoking `run.sh` script. Otherwise, it will be set to default, 2 GPUS with ids 0,1"
   ]
  },
  {
   "cell_type": "code",
   "execution_count": null,
   "metadata": {},
   "outputs": [],
   "source": [
    "def delete_older_checkpoints(path):\n",
    "    files = list(filter(os.path.isfile, glob.glob(path)))\n",
    "    files.sort(key=lambda x: os.path.getmtime(x), reverse=False)\n",
    "    files.pop()\n",
    "    for f in files:\n",
    "        print(\"removing older checkpoint file {}\".format(f))\n",
    "        os.remove(f)"
   ]
  },
  {
   "cell_type": "code",
   "execution_count": null,
   "metadata": {
    "scrolled": true
   },
   "outputs": [],
   "source": [
    "for i, random_seed in enumerate([14, 18, 20, 30]):\n",
    "    print(\"\\n\\n********* STARTING TRAINING FOR RANDOM SEED {} ({}/4) *********\\n\\n\".format(random_seed, i))\n",
    "    train_config = {\"session\": i, \"max_epochs\": 14, \"num_workers\": 2, \"optimizer\": \"sgd\", \"batch_size\": 4, \n",
    "                    \"flip_prob\": 0.5, \"RNG_SEED\": random_seed, \n",
    "                    \"TRAIN\": {\"LEARNING_RATE\": 0.001, \"FG_THRESH\": 0.3, \"BG_THRESH_HI\": 0.3, \"BG_THRESH_LO\": 0.0}}\n",
    "    train(**train_config)\n",
    "    delete_older_checkpoints(\"/notebooks/save/couplenet/res152/kaggle_pna/couplenet_{}_*.pth\".format(i))"
   ]
  },
  {
   "cell_type": "code",
   "execution_count": null,
   "metadata": {},
   "outputs": [],
   "source": []
  }
 ],
 "metadata": {
  "kernelspec": {
   "display_name": "Python 3",
   "language": "python",
   "name": "python3"
  },
  "language_info": {
   "codemirror_mode": {
    "name": "ipython",
    "version": 3
   },
   "file_extension": ".py",
   "mimetype": "text/x-python",
   "name": "python",
   "nbconvert_exporter": "python",
   "pygments_lexer": "ipython3",
   "version": "3.6.5"
  }
 },
 "nbformat": 4,
 "nbformat_minor": 2
}
