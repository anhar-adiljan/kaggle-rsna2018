{
 "cells": [
  {
   "cell_type": "code",
   "execution_count": null,
   "metadata": {},
   "outputs": [],
   "source": [
    "import os\n",
    "import sys\n",
    "import glob\n",
    "import json\n",
    "from test_net import test"
   ]
  },
  {
   "cell_type": "markdown",
   "metadata": {},
   "source": [
    "# NOTE\n",
    "\n",
    "The below code will generate submission files for all models from training."
   ]
  },
  {
   "cell_type": "code",
   "execution_count": null,
   "metadata": {},
   "outputs": [],
   "source": [
    "def get_inference_configs():\n",
    "    list_of_files = glob.glob(\"/notebooks/save/couplenet/res152/kaggle_pna/*.pth\")\n",
    "    configs = []\n",
    "    for fi in list_of_files:\n",
    "        session_id, epoch_id, batch_id = os.path.basename(fi).replace(\".pth\", \"\").split(\"_\")[1:]\n",
    "        configs.append({'checkpoint': batch_id, 'checkepoch': epoch_id, \n",
    "                        'checksession': session_id, 'min_conf': 0.5, 'batch_size': 1})\n",
    "    return configs"
   ]
  },
  {
   "cell_type": "code",
   "execution_count": null,
   "metadata": {},
   "outputs": [],
   "source": [
    "def delete_irrelevant_files(path):\n",
    "    files = list(filter(os.path.isfile, glob.glob(path)))\n",
    "    for f in files:\n",
    "        if \"cls-3\" not in f:\n",
    "            print(\"Removing {}\".format(f))\n",
    "            os.remove(f)"
   ]
  },
  {
   "cell_type": "code",
   "execution_count": null,
   "metadata": {},
   "outputs": [],
   "source": [
    "# write files in DCMImagesTest to text file in ImageSets\n",
    "basepath = \"/opt/R-FCN.pytorch/data/PNAdevkit/PNA2018\"\n",
    "images_dir = os.path.join(basepath, 'DCMImagesTest')\n",
    "pids = [pid.split('.')[0] for pid in os.listdir(images_dir)]\n",
    "\n",
    "ImageSets_dir = os.path.join(basepath,'ImageSets')\n",
    "if not os.path.exists(ImageSets_dir):\n",
    "    os.mkdir(ImageSets_dir)\n",
    "with open(os.path.join(ImageSets_dir,'test.txt'), 'w') as f:\n",
    "    for pid in pids:\n",
    "        f.write(\"{}\\n\".format(pid))"
   ]
  },
  {
   "cell_type": "markdown",
   "metadata": {},
   "source": [
    "# Inference"
   ]
  },
  {
   "cell_type": "code",
   "execution_count": null,
   "metadata": {
    "scrolled": false
   },
   "outputs": [],
   "source": [
    "all_configs = get_inference_configs()\n",
    "for i, config in enumerate(all_configs):\n",
    "    print(\"\\n\\n********* GENERATING SUBMISSION FILE FOR CONFIG {} ({}/{}) *********\\n\\n\".format(config, \n",
    "                                                                                               i, len(all_configs)))\n",
    "    test(**config)\n",
    "    delete_irrelevant_files(\"/notebooks/output/couplenet/res152/kaggle_pna/*\")"
   ]
  }
 ],
 "metadata": {
  "kernelspec": {
   "display_name": "Python 3",
   "language": "python",
   "name": "python3"
  },
  "language_info": {
   "codemirror_mode": {
    "name": "ipython",
    "version": 3
   },
   "file_extension": ".py",
   "mimetype": "text/x-python",
   "name": "python",
   "nbconvert_exporter": "python",
   "pygments_lexer": "ipython3",
   "version": "3.7.0"
  }
 },
 "nbformat": 4,
 "nbformat_minor": 2
}
